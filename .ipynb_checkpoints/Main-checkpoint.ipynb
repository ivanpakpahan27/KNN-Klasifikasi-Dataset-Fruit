{
 "cells": [
  {
   "cell_type": "code",
   "execution_count": 1,
   "metadata": {
    "id": "xpx8anWaspz4"
   },
   "outputs": [],
   "source": [
    "import numpy as np\n",
    "import pandas as pd\n",
    "import matplotlib.pyplot as plt\n",
    "import math\n",
    "from sklearn.preprocessing import LabelEncoder"
   ]
  },
  {
   "cell_type": "code",
   "execution_count": 2,
   "metadata": {
    "id": "BDyA_NR6_KVV"
   },
   "outputs": [
    {
     "data": {
      "text/html": [
       "<div>\n",
       "<style scoped>\n",
       "    .dataframe tbody tr th:only-of-type {\n",
       "        vertical-align: middle;\n",
       "    }\n",
       "\n",
       "    .dataframe tbody tr th {\n",
       "        vertical-align: top;\n",
       "    }\n",
       "\n",
       "    .dataframe thead th {\n",
       "        text-align: right;\n",
       "    }\n",
       "</style>\n",
       "<table border=\"1\" class=\"dataframe\">\n",
       "  <thead>\n",
       "    <tr style=\"text-align: right;\">\n",
       "      <th></th>\n",
       "      <th>name</th>\n",
       "      <th>diameter</th>\n",
       "      <th>weight</th>\n",
       "      <th>red</th>\n",
       "      <th>green</th>\n",
       "      <th>blue</th>\n",
       "    </tr>\n",
       "  </thead>\n",
       "  <tbody>\n",
       "    <tr>\n",
       "      <th>0</th>\n",
       "      <td>orange</td>\n",
       "      <td>2.96</td>\n",
       "      <td>86.76</td>\n",
       "      <td>172</td>\n",
       "      <td>85</td>\n",
       "      <td>2</td>\n",
       "    </tr>\n",
       "    <tr>\n",
       "      <th>1</th>\n",
       "      <td>orange</td>\n",
       "      <td>3.91</td>\n",
       "      <td>88.05</td>\n",
       "      <td>166</td>\n",
       "      <td>78</td>\n",
       "      <td>3</td>\n",
       "    </tr>\n",
       "    <tr>\n",
       "      <th>2</th>\n",
       "      <td>orange</td>\n",
       "      <td>4.42</td>\n",
       "      <td>95.17</td>\n",
       "      <td>156</td>\n",
       "      <td>81</td>\n",
       "      <td>2</td>\n",
       "    </tr>\n",
       "    <tr>\n",
       "      <th>3</th>\n",
       "      <td>orange</td>\n",
       "      <td>4.47</td>\n",
       "      <td>95.60</td>\n",
       "      <td>163</td>\n",
       "      <td>81</td>\n",
       "      <td>4</td>\n",
       "    </tr>\n",
       "    <tr>\n",
       "      <th>4</th>\n",
       "      <td>orange</td>\n",
       "      <td>4.48</td>\n",
       "      <td>95.76</td>\n",
       "      <td>161</td>\n",
       "      <td>72</td>\n",
       "      <td>9</td>\n",
       "    </tr>\n",
       "    <tr>\n",
       "      <th>...</th>\n",
       "      <td>...</td>\n",
       "      <td>...</td>\n",
       "      <td>...</td>\n",
       "      <td>...</td>\n",
       "      <td>...</td>\n",
       "      <td>...</td>\n",
       "    </tr>\n",
       "    <tr>\n",
       "      <th>9995</th>\n",
       "      <td>grapefruit</td>\n",
       "      <td>15.35</td>\n",
       "      <td>253.89</td>\n",
       "      <td>149</td>\n",
       "      <td>77</td>\n",
       "      <td>20</td>\n",
       "    </tr>\n",
       "    <tr>\n",
       "      <th>9996</th>\n",
       "      <td>grapefruit</td>\n",
       "      <td>15.41</td>\n",
       "      <td>254.67</td>\n",
       "      <td>148</td>\n",
       "      <td>68</td>\n",
       "      <td>7</td>\n",
       "    </tr>\n",
       "    <tr>\n",
       "      <th>9997</th>\n",
       "      <td>grapefruit</td>\n",
       "      <td>15.59</td>\n",
       "      <td>256.50</td>\n",
       "      <td>168</td>\n",
       "      <td>82</td>\n",
       "      <td>20</td>\n",
       "    </tr>\n",
       "    <tr>\n",
       "      <th>9998</th>\n",
       "      <td>grapefruit</td>\n",
       "      <td>15.92</td>\n",
       "      <td>260.14</td>\n",
       "      <td>142</td>\n",
       "      <td>72</td>\n",
       "      <td>11</td>\n",
       "    </tr>\n",
       "    <tr>\n",
       "      <th>9999</th>\n",
       "      <td>grapefruit</td>\n",
       "      <td>16.45</td>\n",
       "      <td>261.51</td>\n",
       "      <td>152</td>\n",
       "      <td>74</td>\n",
       "      <td>2</td>\n",
       "    </tr>\n",
       "  </tbody>\n",
       "</table>\n",
       "<p>10000 rows × 6 columns</p>\n",
       "</div>"
      ],
      "text/plain": [
       "            name  diameter  weight  red  green  blue\n",
       "0         orange      2.96   86.76  172     85     2\n",
       "1         orange      3.91   88.05  166     78     3\n",
       "2         orange      4.42   95.17  156     81     2\n",
       "3         orange      4.47   95.60  163     81     4\n",
       "4         orange      4.48   95.76  161     72     9\n",
       "...          ...       ...     ...  ...    ...   ...\n",
       "9995  grapefruit     15.35  253.89  149     77    20\n",
       "9996  grapefruit     15.41  254.67  148     68     7\n",
       "9997  grapefruit     15.59  256.50  168     82    20\n",
       "9998  grapefruit     15.92  260.14  142     72    11\n",
       "9999  grapefruit     16.45  261.51  152     74     2\n",
       "\n",
       "[10000 rows x 6 columns]"
      ]
     },
     "execution_count": 2,
     "metadata": {},
     "output_type": "execute_result"
    }
   ],
   "source": [
    "# Load dataset\n",
    "data_train  = pd.read_csv(\"citrus.csv\")\n",
    "data_train"
   ]
  },
  {
   "cell_type": "code",
   "execution_count": 3,
   "metadata": {},
   "outputs": [
    {
     "data": {
      "text/html": [
       "<div>\n",
       "<style scoped>\n",
       "    .dataframe tbody tr th:only-of-type {\n",
       "        vertical-align: middle;\n",
       "    }\n",
       "\n",
       "    .dataframe tbody tr th {\n",
       "        vertical-align: top;\n",
       "    }\n",
       "\n",
       "    .dataframe thead th {\n",
       "        text-align: right;\n",
       "    }\n",
       "</style>\n",
       "<table border=\"1\" class=\"dataframe\">\n",
       "  <thead>\n",
       "    <tr style=\"text-align: right;\">\n",
       "      <th></th>\n",
       "      <th>grapefruit</th>\n",
       "      <th>orange</th>\n",
       "    </tr>\n",
       "  </thead>\n",
       "  <tbody>\n",
       "    <tr>\n",
       "      <th>0</th>\n",
       "      <td>0</td>\n",
       "      <td>1</td>\n",
       "    </tr>\n",
       "    <tr>\n",
       "      <th>1</th>\n",
       "      <td>0</td>\n",
       "      <td>1</td>\n",
       "    </tr>\n",
       "    <tr>\n",
       "      <th>2</th>\n",
       "      <td>0</td>\n",
       "      <td>1</td>\n",
       "    </tr>\n",
       "    <tr>\n",
       "      <th>3</th>\n",
       "      <td>0</td>\n",
       "      <td>1</td>\n",
       "    </tr>\n",
       "    <tr>\n",
       "      <th>4</th>\n",
       "      <td>0</td>\n",
       "      <td>1</td>\n",
       "    </tr>\n",
       "    <tr>\n",
       "      <th>...</th>\n",
       "      <td>...</td>\n",
       "      <td>...</td>\n",
       "    </tr>\n",
       "    <tr>\n",
       "      <th>9995</th>\n",
       "      <td>1</td>\n",
       "      <td>0</td>\n",
       "    </tr>\n",
       "    <tr>\n",
       "      <th>9996</th>\n",
       "      <td>1</td>\n",
       "      <td>0</td>\n",
       "    </tr>\n",
       "    <tr>\n",
       "      <th>9997</th>\n",
       "      <td>1</td>\n",
       "      <td>0</td>\n",
       "    </tr>\n",
       "    <tr>\n",
       "      <th>9998</th>\n",
       "      <td>1</td>\n",
       "      <td>0</td>\n",
       "    </tr>\n",
       "    <tr>\n",
       "      <th>9999</th>\n",
       "      <td>1</td>\n",
       "      <td>0</td>\n",
       "    </tr>\n",
       "  </tbody>\n",
       "</table>\n",
       "<p>10000 rows × 2 columns</p>\n",
       "</div>"
      ],
      "text/plain": [
       "      grapefruit  orange\n",
       "0              0       1\n",
       "1              0       1\n",
       "2              0       1\n",
       "3              0       1\n",
       "4              0       1\n",
       "...          ...     ...\n",
       "9995           1       0\n",
       "9996           1       0\n",
       "9997           1       0\n",
       "9998           1       0\n",
       "9999           1       0\n",
       "\n",
       "[10000 rows x 2 columns]"
      ]
     },
     "execution_count": 3,
     "metadata": {},
     "output_type": "execute_result"
    }
   ],
   "source": [
    "data_train.name.value_counts()\n",
    "pd.get_dummies(data_train.name)"
   ]
  },
  {
   "cell_type": "code",
   "execution_count": 4,
   "metadata": {},
   "outputs": [],
   "source": [
    "x_train     = data_train.iloc[:,1:6].values\n",
    "y_train     = pd.get_dummies(data_train.name).values\n",
    "row,coloumn = x_train.shape"
   ]
  },
  {
   "cell_type": "code",
   "execution_count": 5,
   "metadata": {},
   "outputs": [
    {
     "data": {
      "text/plain": [
       "array([[0, 1],\n",
       "       [0, 1],\n",
       "       [0, 1],\n",
       "       ...,\n",
       "       [1, 0],\n",
       "       [1, 0],\n",
       "       [1, 0]], dtype=uint8)"
      ]
     },
     "execution_count": 5,
     "metadata": {},
     "output_type": "execute_result"
    }
   ],
   "source": [
    "y_train"
   ]
  },
  {
   "cell_type": "code",
   "execution_count": 6,
   "metadata": {
    "colab": {
     "base_uri": "https://localhost:8080/"
    },
    "id": "m7AKNqh6Bxv1",
    "outputId": "7fe43c84-48aa-4f92-f9bc-7d7e15435450"
   },
   "outputs": [],
   "source": [
    "# Encoding\n",
    "# x\n",
    "# for i in range(coloumn):\n",
    "#     x_train[: , i] = LabelEncoder().fit_transform(x_train[:,i])\n",
    "# y\n",
    "# y_train            = LabelEncoder().fit_transform(y_train)"
   ]
  },
  {
   "cell_type": "code",
   "execution_count": 7,
   "metadata": {
    "colab": {
     "base_uri": "https://localhost:8080/"
    },
    "id": "w3Q7et2iQ5B8",
    "outputId": "c6dd5c5e-b7b2-4cf3-d981-0514f39815cb"
   },
   "outputs": [
    {
     "name": "stdout",
     "output_type": "stream",
     "text": [
      "[16.45, 261.51, 192.0, 116.0, 56.0]\n",
      "[2.96, 86.76, 115.0, 31.0, 2.0]\n"
     ]
    }
   ],
   "source": [
    "# Normalize X\n",
    "maxx = []\n",
    "minn = []\n",
    "for i in range(coloumn):\n",
    "    maxx.append(np.max(x_train[:,i]))\n",
    "    minn.append(np.min(x_train[:,i]))\n",
    "print(maxx)\n",
    "print(minn)"
   ]
  },
  {
   "cell_type": "code",
   "execution_count": 8,
   "metadata": {
    "id": "u5vxYzi9rZWX"
   },
   "outputs": [],
   "source": [
    "# Normalize X\n",
    "for i in range(coloumn):  \n",
    "    for j in range(row):\n",
    "        x_train[j , i] = (x_train[j , i]- minn[i])/(maxx[i]-minn[i])"
   ]
  },
  {
   "cell_type": "code",
   "execution_count": 9,
   "metadata": {
    "colab": {
     "base_uri": "https://localhost:8080/"
    },
    "id": "M7huEIX3rjcV",
    "outputId": "8f4c0989-9b33-498b-8c5e-83ebf196c92c"
   },
   "outputs": [
    {
     "data": {
      "text/plain": [
       "array([[0.        , 0.        , 0.74025974, 0.63529412, 0.        ],\n",
       "       [0.07042254, 0.00738197, 0.66233766, 0.55294118, 0.01851852],\n",
       "       [0.10822832, 0.04812589, 0.53246753, 0.58823529, 0.        ],\n",
       "       ...,\n",
       "       [0.93624907, 0.97133047, 0.68831169, 0.6       , 0.33333333],\n",
       "       [0.96071164, 0.99216023, 0.35064935, 0.48235294, 0.16666667],\n",
       "       [1.        , 1.        , 0.48051948, 0.50588235, 0.        ]])"
      ]
     },
     "execution_count": 9,
     "metadata": {},
     "output_type": "execute_result"
    }
   ],
   "source": [
    "x_train"
   ]
  },
  {
   "cell_type": "code",
   "execution_count": 10,
   "metadata": {
    "id": "efHmRmPW-wao"
   },
   "outputs": [],
   "source": [
    "# Function\n",
    "def sigmoid(x):\n",
    "    return 1/(1+np.exp(-x))\n",
    "sig = np.vectorize(sigmoid)"
   ]
  },
  {
   "cell_type": "code",
   "execution_count": 11,
   "metadata": {
    "id": "kt5-NL4qqiZD"
   },
   "outputs": [],
   "source": [
    "#-------------------------------------\n",
    "#- inisiasi\n",
    "\n",
    "input       = x_train\n",
    "target      = y_train\n",
    "num_input   = 5\n",
    "net_hidden1 = 15\n",
    "net_hidden2 = 30\n",
    "num_output  = 2\n",
    "\n",
    "#Input-->Hidden Layer1\n",
    "w_hidden1 = np.random.uniform(low=-1, high=1, size=(num_input,net_hidden1))\n",
    "b_hidden1 = np.random.uniform(low=-1, high=1, size=(net_hidden1))\n",
    "#Hidden Layer1-->Hidden Layer2\n",
    "w_hidden2 = np.random.uniform(low=-1, high=1, size=(net_hidden1,net_hidden2))\n",
    "b_hidden2 = np.random.uniform(low=-1, high=1, size=(net_hidden2))\n",
    "#Hidden Layer2-->Output\n",
    "w_output = np.random.uniform(low=-1, high=1, size=(net_hidden2,num_output))\n",
    "b_output = np.random.uniform(low=-1, high=1, size=(num_output))\n",
    "\n",
    "# Loss dan Akurasi\n",
    "loss_values = []\n",
    "acc_values  = []\n",
    "\n",
    "lr     = 0.1\n",
    "epochs = 5"
   ]
  },
  {
   "cell_type": "code",
   "execution_count": 12,
   "metadata": {
    "colab": {
     "base_uri": "https://localhost:8080/"
    },
    "id": "bvFlVTRi3BUl",
    "outputId": "222d7e54-7022-4b9c-e028-99af2154b802"
   },
   "outputs": [
    {
     "name": "stdout",
     "output_type": "stream",
     "text": [
      "(5, 15)\n",
      "(15, 30)\n",
      "(30, 2)\n"
     ]
    }
   ],
   "source": [
    "print(w_hidden1.shape)\n",
    "print(w_hidden2.shape)\n",
    "print(w_output.shape)"
   ]
  },
  {
   "cell_type": "code",
   "execution_count": 14,
   "metadata": {
    "colab": {
     "base_uri": "https://localhost:8080/"
    },
    "id": "F9F3kurWvKtX",
    "outputId": "51dd8480-414c-458c-86d6-d9cf1f82a0ad"
   },
   "outputs": [
    {
     "name": "stdout",
     "output_type": "stream",
     "text": [
      "epoch :  0  | error :  [0.00524412 0.00529039]  | acc :  0.9730446517959642\n",
      "epoch :  1  | error :  [0.00592127 0.0061614 ]  | acc :  0.9717654995538919\n",
      "epoch :  2  | error :  [0.00384309 0.00407447]  | acc :  0.9770757614416137\n",
      "epoch :  3  | error :  [0.00260754 0.00278638]  | acc :  0.9818651677123614\n",
      "epoch :  4  | error :  [0.00195454 0.00205433]  | acc :  0.9852156508311452\n"
     ]
    }
   ],
   "source": [
    "list_w_hidden1 = []\n",
    "list_w_hidden2 = []\n",
    "list_w_output  = []\n",
    "list_b_hidden1 = []\n",
    "list_b_hidden2 = []\n",
    "list_b_output  = []\n",
    "\n",
    "for epoch in range(epochs):\n",
    "    MSE = 0\n",
    "    new_target = np.zeros((len(target),num_output))\n",
    "    for idx, inp in enumerate(input):\n",
    "        # A. Feedforward\n",
    "        \n",
    "        # Hidden Layer1\n",
    "        o_hidden1 = np.matmul(input[idx], w_hidden1) + b_hidden1\n",
    "        o_hidden1 = sig(o_hidden1)\n",
    "        # Hidden Layer2\n",
    "        o_hidden2 = np.matmul(o_hidden1, w_hidden2) + b_hidden2\n",
    "        o_hidden2 = sig(o_hidden2)\n",
    "        # Outpur Layer\n",
    "        o_output  = np.matmul(o_hidden2, w_output) + b_output\n",
    "        o_output  = sig(o_output)\n",
    "        \n",
    "        # Menghitung Error\n",
    "        error           = target[idx] - o_output\n",
    "        MSE             = MSE + (error*error)\n",
    "        new_target[idx] = o_output\n",
    "        # Error hidden2->output\n",
    "        eh2             = error @ w_output.T\n",
    "        # Error hidden1->output \n",
    "        eh1             = eh2   @ w_hidden2.T\n",
    "        \n",
    "        # B. Backpropagation\n",
    "        \n",
    "        # Outpur Layer\n",
    "        w_output = w_output + (lr * ((error * o_output * (1 - o_output))* o_hidden2[np.newaxis].T))\n",
    "        b_output = b_output + (lr * ((error * o_output * (1 - o_output))))\n",
    "        # Hidden Layer2\n",
    "        w_hidden2 = w_hidden2 + (lr * (eh2 * o_hidden2 * (1 - o_hidden2))* o_hidden1[np.newaxis].T)\n",
    "        b_hidden2 = b_hidden2 + (lr * (eh2 * o_hidden2 * (1 - o_hidden2)))\n",
    "        # Hidden Layer1\n",
    "        w_hidden1 = w_hidden1 + (lr * (eh1 * o_hidden1 * (1 - o_hidden1))* input[idx][np.newaxis].T)\n",
    "        b_hidden1 = b_hidden1 + (lr * (eh1 * o_hidden1 * (1 - o_hidden1)))\n",
    "        \n",
    "    MSE = MSE/len(target)\n",
    "    acc = 1 - (np.sum(np.absolute(target-new_target))/len(target))\n",
    "    loss_values.append(MSE)\n",
    "    acc_values.append(acc)\n",
    "    list_w_hidden1.append(w_hidden1)\n",
    "    list_w_hidden2.append(w_hidden2)\n",
    "    list_w_output.append(w_output)\n",
    "    list_b_hidden1.append(b_hidden1)\n",
    "    list_b_hidden2.append(b_hidden2)\n",
    "    list_b_output.append(b_output)\n",
    "    print(\"epoch : \",epoch,\" | error : \",MSE,\" | acc : \",acc)\n",
    "\n",
    "# acc_max   = max(acc_values)\n",
    "# index_max = acc_values.index(acc_max)\n",
    "# w_hidden1 = list_w_hidden1[index_max]\n",
    "# w_hidden2 = list_w_hidden2[index_max]\n",
    "# w_output  = list_w_output[index_max]\n",
    "# b_hidden1 = list_b_hidden1[index_max]\n",
    "# b_hidden2 = list_b_hidden2[index_max]\n",
    "# b_output  = list_b_output[index_max]"
   ]
  },
  {
   "cell_type": "code",
   "execution_count": 15,
   "metadata": {
    "colab": {
     "base_uri": "https://localhost:8080/",
     "height": 545
    },
    "id": "mAUsajPMHhpL",
    "outputId": "783adea5-0207-4bf5-8e85-f94f7f1c871d"
   },
   "outputs": [
    {
     "data": {
      "image/png": "[encoded data removed]",
      "text/plain": [
       "<Figure size 432x288 with 1 Axes>"
      ]
     },
     "metadata": {
      "needs_background": "light"
     },
     "output_type": "display_data"
    },
    {
     "data": {
      "image/png": "[encoded data removed]",
      "text/plain": [
       "<Figure size 432x288 with 1 Axes>"
      ]
     },
     "metadata": {
      "needs_background": "light"
     },
     "output_type": "display_data"
    }
   ],
   "source": [
    "plot1 = plt.figure(1)\n",
    "plt.plot(loss_values)\n",
    "plt.title(\"Loss Values\")\n",
    "plt.show()\n",
    "\n",
    "plot2 = plt.figure(2)\n",
    "plt.plot(acc_values)\n",
    "plt.title(\"Accuracy Values\")\n",
    "plt.show()"
   ]
  },
  {
   "cell_type": "code",
   "execution_count": 36,
   "metadata": {
    "id": "Vs4IacSMH2FB"
   },
   "outputs": [],
   "source": [
    "def predict(data):\n",
    "    HasilPredict = []\n",
    "    PredResult   = []\n",
    "    for i in data:\n",
    "        # Hidden Layer1\n",
    "        o_hidden1 = np.matmul(i, w_hidden1) + b_hidden1\n",
    "        o_hidden1 = sig(o_hidden1)\n",
    "        # Hidden Layer2\n",
    "        o_hidden2 = np.matmul(o_hidden1, w_hidden2) + b_hidden2\n",
    "        o_hidden2 = sig(o_hidden2)\n",
    "        # Outpur Layer\n",
    "        o_output  = np.matmul(o_hidden2, w_output) + b_output\n",
    "        o_output  = sig(o_output)\n",
    "        HasilPredict.append(o_output)\n",
    "        print(HasilPredict)\n",
    "    for i in HasilPredict:\n",
    "        for j in range (len(i-1)):\n",
    "            print(len(i-1))\n",
    "            if i[j+1] > i[j]:\n",
    "                result = 0\n",
    "            else:\n",
    "                result = 1\n",
    "        PredResult.append(result)\n",
    "    return PredResult"
   ]
  },
  {
   "cell_type": "code",
   "execution_count": 35,
   "metadata": {
    "colab": {
     "base_uri": "https://localhost:8080/"
    },
    "id": "-YIW8tu0OA3o",
    "outputId": "52334ee5-afba-458f-c53b-0e44a424255a"
   },
   "outputs": [
    {
     "name": "stdout",
     "output_type": "stream",
     "text": [
      "[array([0.99879417, 0.00126667])]\n",
      "2\n",
      "2\n"
     ]
    },
    {
     "ename": "IndexError",
     "evalue": "index 2 is out of bounds for axis 0 with size 2",
     "output_type": "error",
     "traceback": [
      "\u001b[1;31m---------------------------------------------------------------------------\u001b[0m",
      "\u001b[1;31mIndexError\u001b[0m                                Traceback (most recent call last)",
      "\u001b[1;32m<ipython-input-35-8d0ddae8e06d>\u001b[0m in \u001b[0;36m<module>\u001b[1;34m\u001b[0m\n\u001b[1;32m----> 1\u001b[1;33m \u001b[0mprediksi\u001b[0m \u001b[1;33m=\u001b[0m \u001b[0mpredict\u001b[0m\u001b[1;33m(\u001b[0m\u001b[1;33m[\u001b[0m\u001b[0mx_train\u001b[0m\u001b[1;33m[\u001b[0m\u001b[1;36m9999\u001b[0m\u001b[1;33m]\u001b[0m\u001b[1;33m]\u001b[0m\u001b[1;33m)\u001b[0m\u001b[1;33m\u001b[0m\u001b[1;33m\u001b[0m\u001b[0m\n\u001b[0m\u001b[0;32m      2\u001b[0m \u001b[0mprint\u001b[0m\u001b[1;33m(\u001b[0m\u001b[0mprediksi\u001b[0m\u001b[1;33m)\u001b[0m\u001b[1;33m\u001b[0m\u001b[1;33m\u001b[0m\u001b[0m\n",
      "\u001b[1;32m<ipython-input-34-1e1da685c298>\u001b[0m in \u001b[0;36mpredict\u001b[1;34m(data)\u001b[0m\n\u001b[0;32m     18\u001b[0m             \u001b[0mprint\u001b[0m\u001b[1;33m(\u001b[0m\u001b[0mlen\u001b[0m\u001b[1;33m(\u001b[0m\u001b[0mi\u001b[0m\u001b[1;33m)\u001b[0m\u001b[1;33m)\u001b[0m\u001b[1;33m\u001b[0m\u001b[1;33m\u001b[0m\u001b[0m\n\u001b[0;32m     19\u001b[0m         \u001b[1;32mfor\u001b[0m \u001b[0mj\u001b[0m \u001b[1;32min\u001b[0m \u001b[0mrange\u001b[0m \u001b[1;33m(\u001b[0m\u001b[0mlen\u001b[0m\u001b[1;33m(\u001b[0m\u001b[0mi\u001b[0m\u001b[1;33m-\u001b[0m\u001b[1;36m1\u001b[0m\u001b[1;33m)\u001b[0m\u001b[1;33m)\u001b[0m\u001b[1;33m:\u001b[0m\u001b[1;33m\u001b[0m\u001b[1;33m\u001b[0m\u001b[0m\n\u001b[1;32m---> 20\u001b[1;33m             \u001b[1;32mif\u001b[0m \u001b[0mi\u001b[0m\u001b[1;33m[\u001b[0m\u001b[0mj\u001b[0m\u001b[1;33m+\u001b[0m\u001b[1;36m1\u001b[0m\u001b[1;33m]\u001b[0m \u001b[1;33m>\u001b[0m \u001b[0mi\u001b[0m\u001b[1;33m[\u001b[0m\u001b[0mj\u001b[0m\u001b[1;33m]\u001b[0m\u001b[1;33m:\u001b[0m\u001b[1;33m\u001b[0m\u001b[1;33m\u001b[0m\u001b[0m\n\u001b[0m\u001b[0;32m     21\u001b[0m                 \u001b[0mresult\u001b[0m \u001b[1;33m=\u001b[0m \u001b[1;36m0\u001b[0m\u001b[1;33m\u001b[0m\u001b[1;33m\u001b[0m\u001b[0m\n\u001b[0;32m     22\u001b[0m             \u001b[1;32melse\u001b[0m\u001b[1;33m:\u001b[0m\u001b[1;33m\u001b[0m\u001b[1;33m\u001b[0m\u001b[0m\n",
      "\u001b[1;31mIndexError\u001b[0m: index 2 is out of bounds for axis 0 with size 2"
     ]
    }
   ],
   "source": [
    "prediksi = predict([x_train[9999]])\n",
    "print(prediksi)"
   ]
  },
  {
   "cell_type": "code",
   "execution_count": 34,
   "metadata": {
    "colab": {
     "base_uri": "https://localhost:8080/",
     "height": 490
    },
    "id": "KpkIPhxc6E2A",
    "outputId": "2838ac91-331b-44eb-fc54-552590d4a296"
   },
   "outputs": [
    {
     "data": {
      "text/html": [
       "<div>\n",
       "<style scoped>\n",
       "    .dataframe tbody tr th:only-of-type {\n",
       "        vertical-align: middle;\n",
       "    }\n",
       "\n",
       "    .dataframe tbody tr th {\n",
       "        vertical-align: top;\n",
       "    }\n",
       "\n",
       "    .dataframe thead th {\n",
       "        text-align: right;\n",
       "    }\n",
       "</style>\n",
       "<table border=\"1\" class=\"dataframe\">\n",
       "  <thead>\n",
       "    <tr style=\"text-align: right;\">\n",
       "      <th></th>\n",
       "      <th>name</th>\n",
       "      <th>diameter</th>\n",
       "      <th>weight</th>\n",
       "      <th>red</th>\n",
       "      <th>green</th>\n",
       "      <th>blue</th>\n",
       "    </tr>\n",
       "  </thead>\n",
       "  <tbody>\n",
       "    <tr>\n",
       "      <th>0</th>\n",
       "      <td>orange</td>\n",
       "      <td>2.96</td>\n",
       "      <td>86.76</td>\n",
       "      <td>172</td>\n",
       "      <td>85</td>\n",
       "      <td>2</td>\n",
       "    </tr>\n",
       "    <tr>\n",
       "      <th>1</th>\n",
       "      <td>orange</td>\n",
       "      <td>3.91</td>\n",
       "      <td>88.05</td>\n",
       "      <td>166</td>\n",
       "      <td>78</td>\n",
       "      <td>3</td>\n",
       "    </tr>\n",
       "    <tr>\n",
       "      <th>2</th>\n",
       "      <td>orange</td>\n",
       "      <td>4.42</td>\n",
       "      <td>95.17</td>\n",
       "      <td>156</td>\n",
       "      <td>81</td>\n",
       "      <td>2</td>\n",
       "    </tr>\n",
       "    <tr>\n",
       "      <th>3</th>\n",
       "      <td>orange</td>\n",
       "      <td>4.47</td>\n",
       "      <td>95.60</td>\n",
       "      <td>163</td>\n",
       "      <td>81</td>\n",
       "      <td>4</td>\n",
       "    </tr>\n",
       "    <tr>\n",
       "      <th>4</th>\n",
       "      <td>orange</td>\n",
       "      <td>4.48</td>\n",
       "      <td>95.76</td>\n",
       "      <td>161</td>\n",
       "      <td>72</td>\n",
       "      <td>9</td>\n",
       "    </tr>\n",
       "    <tr>\n",
       "      <th>...</th>\n",
       "      <td>...</td>\n",
       "      <td>...</td>\n",
       "      <td>...</td>\n",
       "      <td>...</td>\n",
       "      <td>...</td>\n",
       "      <td>...</td>\n",
       "    </tr>\n",
       "    <tr>\n",
       "      <th>9995</th>\n",
       "      <td>grapefruit</td>\n",
       "      <td>15.35</td>\n",
       "      <td>253.89</td>\n",
       "      <td>149</td>\n",
       "      <td>77</td>\n",
       "      <td>20</td>\n",
       "    </tr>\n",
       "    <tr>\n",
       "      <th>9996</th>\n",
       "      <td>grapefruit</td>\n",
       "      <td>15.41</td>\n",
       "      <td>254.67</td>\n",
       "      <td>148</td>\n",
       "      <td>68</td>\n",
       "      <td>7</td>\n",
       "    </tr>\n",
       "    <tr>\n",
       "      <th>9997</th>\n",
       "      <td>grapefruit</td>\n",
       "      <td>15.59</td>\n",
       "      <td>256.50</td>\n",
       "      <td>168</td>\n",
       "      <td>82</td>\n",
       "      <td>20</td>\n",
       "    </tr>\n",
       "    <tr>\n",
       "      <th>9998</th>\n",
       "      <td>grapefruit</td>\n",
       "      <td>15.92</td>\n",
       "      <td>260.14</td>\n",
       "      <td>142</td>\n",
       "      <td>72</td>\n",
       "      <td>11</td>\n",
       "    </tr>\n",
       "    <tr>\n",
       "      <th>9999</th>\n",
       "      <td>grapefruit</td>\n",
       "      <td>16.45</td>\n",
       "      <td>261.51</td>\n",
       "      <td>152</td>\n",
       "      <td>74</td>\n",
       "      <td>2</td>\n",
       "    </tr>\n",
       "  </tbody>\n",
       "</table>\n",
       "<p>10000 rows × 6 columns</p>\n",
       "</div>"
      ],
      "text/plain": [
       "            name  diameter  weight  red  green  blue\n",
       "0         orange      2.96   86.76  172     85     2\n",
       "1         orange      3.91   88.05  166     78     3\n",
       "2         orange      4.42   95.17  156     81     2\n",
       "3         orange      4.47   95.60  163     81     4\n",
       "4         orange      4.48   95.76  161     72     9\n",
       "...          ...       ...     ...  ...    ...   ...\n",
       "9995  grapefruit     15.35  253.89  149     77    20\n",
       "9996  grapefruit     15.41  254.67  148     68     7\n",
       "9997  grapefruit     15.59  256.50  168     82    20\n",
       "9998  grapefruit     15.92  260.14  142     72    11\n",
       "9999  grapefruit     16.45  261.51  152     74     2\n",
       "\n",
       "[10000 rows x 6 columns]"
      ]
     },
     "execution_count": 34,
     "metadata": {},
     "output_type": "execute_result"
    }
   ],
   "source": [
    "data_train"
   ]
  },
  {
   "cell_type": "code",
   "execution_count": 40,
   "metadata": {},
   "outputs": [
    {
     "name": "stdout",
     "output_type": "stream",
     "text": [
      "[1.0, 0.7613636363636364, 0.6666666666666666, 0.8333333333333334, 0.97165991902834, 1.0]\n",
      "[0.0, 0.7613636363636364, 0.6666666666666666, 0.8333333333333334, 0.97165991902834, 1.0]\n",
      "[0.0, 0.5681818181818182, 0.6666666666666666, 0.8333333333333334, 0.97165991902834, 1.0]\n",
      "[0.0, 0.5681818181818182, 0.16666666666666666, 0.8333333333333334, 0.97165991902834, 1.0]\n",
      "[0.0, 0.5681818181818182, 0.16666666666666666, 0.6666666666666666, 0.97165991902834, 1.0]\n",
      "[0.0, 0.5681818181818182, 0.16666666666666666, 0.6666666666666666, 0.6072874493927125, 1.0]\n",
      "[0.0, 0.5681818181818182, 0.16666666666666666, 0.6666666666666666, 0.6072874493927125, 0.0]\n",
      "[0.0, 0.5681818181818182, 0.16666666666666666, 0.6666666666666666, 0.46558704453441296, 0.0]\n",
      "[0.0, 0.5681818181818182, 0.16666666666666666, 0.6666666666666666, 0.708502024291498, 0.0]\n",
      "[0.0, 0.3409090909090909, 0.16666666666666666, 0.6666666666666666, 0.708502024291498, 0.0]\n",
      "[0.0, 0.5227272727272727, 0.16666666666666666, 0.0, 0.708502024291498, 0.0]\n",
      "[0.0, 0.5227272727272727, 0.16666666666666666, 0.0, 0.7125506072874493, 0.0]\n",
      "[0.0, 0.5227272727272727, 0.16666666666666666, 0.0, 0.7165991902834008, 0.0]\n",
      "[0.0, 0.5227272727272727, 0.16666666666666666, 0.0, 0.8097165991902834, 0.0]\n",
      "[0.0, 0.6818181818181818, 0.16666666666666666, 0.0, 0.8097165991902834, 0.0]\n",
      "[0.0, 0.6818181818181818, 0.16666666666666666, 0.0, 0.8097165991902834, 1.0]\n",
      "[1.0, 0.6818181818181818, 0.16666666666666666, 0.0, 0.8097165991902834, 1.0]\n",
      "[1.0, 0.6818181818181818, 0.16666666666666666, 0.0, 1.214574898785425, 1.0]\n",
      "[1.0, 0.6818181818181818, 0.16666666666666666, 0.16666666666666666, 1.214574898785425, 1.0]\n",
      "[1.0, 0.6818181818181818, 0.16666666666666666, 0.6666666666666666, 1.214574898785425, 1.0]\n",
      "[1.0, 0.6818181818181818, 0.16666666666666666, 0.8333333333333334, 1.214574898785425, 1.0]\n",
      "[1.0, 0.6818181818181818, 0.16666666666666666, 0.0, 1.214574898785425, 1.0]\n",
      "[1.0, 0.6818181818181818, 0.0, 0.0, 1.214574898785425, 1.0]\n",
      "[1.0, 0.6818181818181818, 0.0, 0.16666666666666666, 1.214574898785425, 1.0]\n",
      "[1.0, 0.6818181818181818, 0.0, 0.3333333333333333, 1.214574898785425, 1.0]\n",
      "[1.0, 0.6818181818181818, 0.0, 0.5, 1.214574898785425, 1.0]\n",
      "[1.0, 0.6818181818181818, 0.0, 0.6666666666666666, 1.214574898785425, 1.0]\n",
      "[1.0, 0.6818181818181818, 0.3333333333333333, 0.6666666666666666, 1.214574898785425, 1.0]\n",
      "[1.0, 0.6818181818181818, 0.8333333333333334, 0.6666666666666666, 1.214574898785425, 1.0]\n",
      "[1.0, 0.022727272727272728, 0.16666666666666666, 0.6666666666666666, 1.214574898785425, 1.0]\n",
      "[1.0, 0.022727272727272728, 0.16666666666666666, 0.0, 1.214574898785425, 1.0]\n",
      "[0.0, 0.0, 0.0, 0.0, 1.214574898785425, 1.0]\n",
      "[0.0, 0.0, 0.0, 0.0, 0.0, 1.0]\n",
      "[0.0, 0.0, 0.0, 0.0, 0.0, 0.0]\n",
      "[0.0, 0.0, 0.0, 0.0, 0.0, 10.666666666666666]\n",
      "[0.0, 0.3409090909090909, 0.0, 0.0, 0.0, 10.666666666666666]\n",
      "[0.0, 0.3409090909090909, 0.0, 0.0, 0.016194331983805668, 10.666666666666666]\n",
      "[0.0, 0.3409090909090909, 0.0, 0.6666666666666666, 0.008097165991902834, 10.666666666666666]\n"
     ]
    },
    {
     "name": "stderr",
     "output_type": "stream",
     "text": [
      "C:\\Python3_7\\lib\\site-packages\\ipykernel_launcher.py:3: RuntimeWarning: overflow encountered in exp\n",
      "  This is separate from the ipykernel package so we can avoid doing imports until\n"
     ]
    },
    {
     "name": "stdout",
     "output_type": "stream",
     "text": [
      "[0.0, 0.3409090909090909, 0.0, 0.6666666666666666, 0.008097165991902834, 10.666666666666666]\n",
      "[0.0, 0.3409090909090909, 0.0, 0.6666666666666666, 0.008097165991902834, 10.666666666666666]\n",
      "[0.0, 0.3409090909090909, 0.0, 0.6666666666666666, 0.008097165991902834, 10.666666666666666]\n",
      "[0.0, 0.3409090909090909, 0.0, 0.6666666666666666, 0.008097165991902834, 10.666666666666666]\n",
      "[0.0, 0.3409090909090909, 0.0, 0.6666666666666666, 0.008097165991902834, 10.666666666666666]\n",
      "[0.0, 0.3409090909090909, 0.0, 0.6666666666666666, 0.008097165991902834, 10.666666666666666]\n",
      "[0.0, 0.3409090909090909, 0.0, 0.6666666666666666, 0.008097165991902834, 10.666666666666666]\n",
      "[1.0, 0.3409090909090909, 0.0, 0.6666666666666666, 0.008097165991902834, 10.666666666666666]\n",
      "[1.0, 0.3409090909090909, 0.0, 0.6666666666666666, 0.008097165991902834, 10.666666666666666]\n",
      "[1.0, 0.3409090909090909, 0.0, 0.6666666666666666, 0.008097165991902834, 10.666666666666666]\n",
      "[1.0, 0.3409090909090909, 0.0, 0.6666666666666666, 0.008097165991902834, 10.666666666666666]\n",
      "[1.0, 0.3409090909090909, 0.0, 0.6666666666666666, 0.008097165991902834, 10.666666666666666]\n",
      "[1.0, 0.3409090909090909, 0.0, 0.6666666666666666, 0.008097165991902834, 10.666666666666666]\n"
     ]
    }
   ],
   "source": [
    "from tkinter import *\n",
    "from tkinter.ttk import Combobox\n",
    "from tkinter import messagebox\n",
    "\n",
    "\n",
    "class Test:\n",
    "    def __init__(self, tk):\n",
    "        self.var = StringVar()\n",
    "        self.data = (0, 1)\n",
    "        self.lb0 = Label(tk,  text = 'MULTILAYER PERCEPTRON PREDIKSI KESELAMATAN PENUMPANG TITANIC',\n",
    "                         font = (\"Times\",12)).place(x=15,y=0)\n",
    "        self.lb1 = Label(tk,  text = 'Sex',font = (\"Times\",9)).place(x=5,y=50)\n",
    "        self.lb2 = Label(tk,  text = 'Age',font = (\"Times\",9)).place(x=5,y=75)\n",
    "        self.lb3 = Label(tk,  text = 'SibSp',font = (\"Times\",9)).place(x=5,y=100)\n",
    "        self.lb4 = Label(tk,  text = 'Parch',font = (\"Times\",9)).place(x=5,y=125)\n",
    "        self.lb5 = Label(tk,  text = 'Fare',font = (\"Times\",9)).place(x=5,y=150)\n",
    "        self.lb6 = Label(tk,  text = 'Embarked',font = (\"Times\",9)).place(x=5,y=175)\n",
    "        #---------------------------------------------------------------------------------------------\n",
    "        self.cb1 = Combobox(tk, values=self.data,font = (\"Times\",9), width=17)\n",
    "        self.cb1.place(x=80, y=50)\n",
    "        self.e2  = Entry(tk,font = (\"Times\",9) )\n",
    "        self.e2.place(x=80,y=75)\n",
    "        self.e3  = Entry(tk,font = (\"Times\",9) )\n",
    "        self.e3.place(x=80,y=100)\n",
    "        self.e4  = Entry(tk,font = (\"Times\",9) )\n",
    "        self.e4.place(x=80,y=125)\n",
    "        self.e5  = Entry(tk,font = (\"Times\",9) )\n",
    "        self.e5.place(x=80,y=150)\n",
    "        self.e6  = Entry(tk,font = (\"Times\",9) )\n",
    "        self.e6.place(x=80,y=175)\n",
    "        #---------------------------------------------------------------------------------------------\n",
    "        self.b1  = Button(tk, text=\"Prediksi\",font = (\"Times\",9), command=self.select).place(x=300, y=250, anchor=CENTER)\n",
    "        self.lb7 = Label(tk,  text = 'Hasil', font = (\"Times\",9))\n",
    "        self.lb7.place(x=300, y=300, anchor=CENTER)\n",
    "        \n",
    "    def select(self):\n",
    "        data   = []\n",
    "        value1 = (float(self.cb1.get())-minn[0])/(maxx[0]-minn[0])\n",
    "        #messagebox.showinfo(\"Warn\", \"You selected \" + value)\n",
    "        value2 = (float(self.e2.get())-minn[1])/(maxx[1]-minn[1])\n",
    "        value3 = (float(self.e3.get())-minn[2])/(maxx[2]-minn[2])\n",
    "        value4 = (float(self.e4.get())-minn[3])/(maxx[3]-minn[3])\n",
    "        value5 = (float(self.e5.get())-minn[4])/(maxx[4]-minn[4])\n",
    "        value6 = (float(self.e6.get())-minn[5])/(maxx[5]-minn[5])\n",
    "        data.append(value1)\n",
    "        data.append(value2)\n",
    "        data.append(value3)\n",
    "        data.append(value4)\n",
    "        data.append(value5)\n",
    "        data.append(value6)\n",
    "        HasilPredict = []\n",
    "        print(data)\n",
    "        for i in data:\n",
    "            # Hidden Layer1\n",
    "            o_hidden1 = np.matmul(data, w_hidden1) + b_hidden1\n",
    "            o_hidden1 = sig(o_hidden1)\n",
    "            # Hidden Layer2\n",
    "            o_hidden2 = np.matmul(o_hidden1, w_hidden2) + b_hidden2\n",
    "            o_hidden2 = sig(o_hidden2)\n",
    "            # Outpur Layer\n",
    "            o_output  = np.matmul(o_hidden2, w_output) + b_output\n",
    "            o_output  = sig(o_output)\n",
    "            HasilPredict.append(round(float(o_output)))\n",
    "        for i in HasilPredict:\n",
    "            if i == 1 :\n",
    "                a = 'Selamat'\n",
    "            elif i == 0 :\n",
    "                a = 'Tewas'\n",
    "        self.lb7.config(text=a)\n",
    "tk = Tk()\n",
    "tk.geometry(\"600x350\")\n",
    "tk.title(\"MULTILAYER PERCEPTRON\")\n",
    "tt = Test(tk)\n",
    "tk.mainloop()"
   ]
  },
  {
   "cell_type": "code",
   "execution_count": 158,
   "metadata": {},
   "outputs": [
    {
     "data": {
      "text/plain": [
       "array([[0., 0.],\n",
       "       [0., 0.],\n",
       "       [0., 0.],\n",
       "       [0., 0.],\n",
       "       [0., 0.]])"
      ]
     },
     "execution_count": 158,
     "metadata": {},
     "output_type": "execute_result"
    }
   ],
   "source": [
    "a = np.zeros((5,2))\n",
    "a"
   ]
  },
  {
   "cell_type": "code",
   "execution_count": 159,
   "metadata": {},
   "outputs": [],
   "source": [
    "a[0] = [2,3]"
   ]
  },
  {
   "cell_type": "code",
   "execution_count": 160,
   "metadata": {},
   "outputs": [
    {
     "data": {
      "text/plain": [
       "array([[2., 3.],\n",
       "       [0., 0.],\n",
       "       [0., 0.],\n",
       "       [0., 0.],\n",
       "       [0., 0.]])"
      ]
     },
     "execution_count": 160,
     "metadata": {},
     "output_type": "execute_result"
    }
   ],
   "source": [
    "a"
   ]
  },
  {
   "cell_type": "code",
   "execution_count": null,
   "metadata": {},
   "outputs": [],
   "source": []
  }
 ],
 "metadata": {
  "colab": {
   "collapsed_sections": [],
   "name": "Main.ipynb",
   "provenance": []
  },
  "kernelspec": {
   "display_name": "Python 3",
   "language": "python",
   "name": "python3"
  },
  "language_info": {
   "codemirror_mode": {
    "name": "ipython",
    "version": 3
   },
   "file_extension": ".py",
   "mimetype": "text/x-python",
   "name": "python",
   "nbconvert_exporter": "python",
   "pygments_lexer": "ipython3",
   "version": "3.7.7"
  }
 },
 "nbformat": 4,
 "nbformat_minor": 1
}
