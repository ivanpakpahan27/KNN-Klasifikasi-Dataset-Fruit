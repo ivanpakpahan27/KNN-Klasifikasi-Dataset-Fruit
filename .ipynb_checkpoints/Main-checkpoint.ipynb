{
 "cells": [
  {
   "cell_type": "code",
   "execution_count": 35,
   "metadata": {
    "id": "xpx8anWaspz4"
   },
   "outputs": [],
   "source": [
    "import numpy as np\n",
    "import pandas as pd\n",
    "from sklearn.preprocessing import LabelEncoder"
   ]
  },
  {
   "cell_type": "code",
   "execution_count": 36,
   "metadata": {
    "id": "BDyA_NR6_KVV"
   },
   "outputs": [
    {
     "data": {
      "text/html": [
       "<div>\n",
       "<style scoped>\n",
       "    .dataframe tbody tr th:only-of-type {\n",
       "        vertical-align: middle;\n",
       "    }\n",
       "\n",
       "    .dataframe tbody tr th {\n",
       "        vertical-align: top;\n",
       "    }\n",
       "\n",
       "    .dataframe thead th {\n",
       "        text-align: right;\n",
       "    }\n",
       "</style>\n",
       "<table border=\"1\" class=\"dataframe\">\n",
       "  <thead>\n",
       "    <tr style=\"text-align: right;\">\n",
       "      <th></th>\n",
       "      <th>name</th>\n",
       "      <th>diameter</th>\n",
       "      <th>weight</th>\n",
       "      <th>red</th>\n",
       "      <th>green</th>\n",
       "      <th>blue</th>\n",
       "    </tr>\n",
       "  </thead>\n",
       "  <tbody>\n",
       "    <tr>\n",
       "      <th>0</th>\n",
       "      <td>orange</td>\n",
       "      <td>2.96</td>\n",
       "      <td>86.76</td>\n",
       "      <td>172</td>\n",
       "      <td>85</td>\n",
       "      <td>2</td>\n",
       "    </tr>\n",
       "    <tr>\n",
       "      <th>1</th>\n",
       "      <td>orange</td>\n",
       "      <td>3.91</td>\n",
       "      <td>88.05</td>\n",
       "      <td>166</td>\n",
       "      <td>78</td>\n",
       "      <td>3</td>\n",
       "    </tr>\n",
       "    <tr>\n",
       "      <th>2</th>\n",
       "      <td>orange</td>\n",
       "      <td>4.42</td>\n",
       "      <td>95.17</td>\n",
       "      <td>156</td>\n",
       "      <td>81</td>\n",
       "      <td>2</td>\n",
       "    </tr>\n",
       "    <tr>\n",
       "      <th>3</th>\n",
       "      <td>orange</td>\n",
       "      <td>4.47</td>\n",
       "      <td>95.60</td>\n",
       "      <td>163</td>\n",
       "      <td>81</td>\n",
       "      <td>4</td>\n",
       "    </tr>\n",
       "    <tr>\n",
       "      <th>4</th>\n",
       "      <td>orange</td>\n",
       "      <td>4.48</td>\n",
       "      <td>95.76</td>\n",
       "      <td>161</td>\n",
       "      <td>72</td>\n",
       "      <td>9</td>\n",
       "    </tr>\n",
       "    <tr>\n",
       "      <th>...</th>\n",
       "      <td>...</td>\n",
       "      <td>...</td>\n",
       "      <td>...</td>\n",
       "      <td>...</td>\n",
       "      <td>...</td>\n",
       "      <td>...</td>\n",
       "    </tr>\n",
       "    <tr>\n",
       "      <th>9995</th>\n",
       "      <td>grapefruit</td>\n",
       "      <td>15.35</td>\n",
       "      <td>253.89</td>\n",
       "      <td>149</td>\n",
       "      <td>77</td>\n",
       "      <td>20</td>\n",
       "    </tr>\n",
       "    <tr>\n",
       "      <th>9996</th>\n",
       "      <td>grapefruit</td>\n",
       "      <td>15.41</td>\n",
       "      <td>254.67</td>\n",
       "      <td>148</td>\n",
       "      <td>68</td>\n",
       "      <td>7</td>\n",
       "    </tr>\n",
       "    <tr>\n",
       "      <th>9997</th>\n",
       "      <td>grapefruit</td>\n",
       "      <td>15.59</td>\n",
       "      <td>256.50</td>\n",
       "      <td>168</td>\n",
       "      <td>82</td>\n",
       "      <td>20</td>\n",
       "    </tr>\n",
       "    <tr>\n",
       "      <th>9998</th>\n",
       "      <td>grapefruit</td>\n",
       "      <td>15.92</td>\n",
       "      <td>260.14</td>\n",
       "      <td>142</td>\n",
       "      <td>72</td>\n",
       "      <td>11</td>\n",
       "    </tr>\n",
       "    <tr>\n",
       "      <th>9999</th>\n",
       "      <td>grapefruit</td>\n",
       "      <td>16.45</td>\n",
       "      <td>261.51</td>\n",
       "      <td>152</td>\n",
       "      <td>74</td>\n",
       "      <td>2</td>\n",
       "    </tr>\n",
       "  </tbody>\n",
       "</table>\n",
       "<p>10000 rows × 6 columns</p>\n",
       "</div>"
      ],
      "text/plain": [
       "            name  diameter  weight  red  green  blue\n",
       "0         orange      2.96   86.76  172     85     2\n",
       "1         orange      3.91   88.05  166     78     3\n",
       "2         orange      4.42   95.17  156     81     2\n",
       "3         orange      4.47   95.60  163     81     4\n",
       "4         orange      4.48   95.76  161     72     9\n",
       "...          ...       ...     ...  ...    ...   ...\n",
       "9995  grapefruit     15.35  253.89  149     77    20\n",
       "9996  grapefruit     15.41  254.67  148     68     7\n",
       "9997  grapefruit     15.59  256.50  168     82    20\n",
       "9998  grapefruit     15.92  260.14  142     72    11\n",
       "9999  grapefruit     16.45  261.51  152     74     2\n",
       "\n",
       "[10000 rows x 6 columns]"
      ]
     },
     "execution_count": 36,
     "metadata": {},
     "output_type": "execute_result"
    }
   ],
   "source": [
    "# Load dataset\n",
    "data_train  = pd.read_csv(\"citrus.csv\")\n",
    "data_train"
   ]
  },
  {
   "cell_type": "code",
   "execution_count": 37,
   "metadata": {},
   "outputs": [
    {
     "data": {
      "text/plain": [
       "<bound method DataFrame.info of             name  diameter  weight  red  green  blue\n",
       "0         orange      2.96   86.76  172     85     2\n",
       "1         orange      3.91   88.05  166     78     3\n",
       "2         orange      4.42   95.17  156     81     2\n",
       "3         orange      4.47   95.60  163     81     4\n",
       "4         orange      4.48   95.76  161     72     9\n",
       "...          ...       ...     ...  ...    ...   ...\n",
       "9995  grapefruit     15.35  253.89  149     77    20\n",
       "9996  grapefruit     15.41  254.67  148     68     7\n",
       "9997  grapefruit     15.59  256.50  168     82    20\n",
       "9998  grapefruit     15.92  260.14  142     72    11\n",
       "9999  grapefruit     16.45  261.51  152     74     2\n",
       "\n",
       "[10000 rows x 6 columns]>"
      ]
     },
     "execution_count": 37,
     "metadata": {},
     "output_type": "execute_result"
    }
   ],
   "source": [
    "data_train.info"
   ]
  },
  {
   "cell_type": "code",
   "execution_count": 39,
   "metadata": {},
   "outputs": [],
   "source": [
    "x = data_train.iloc[:,1:6].values\n",
    "y = data_train.iloc[:,0].values"
   ]
  },
  {
   "cell_type": "code",
   "execution_count": 41,
   "metadata": {},
   "outputs": [
    {
     "data": {
      "text/plain": [
       "array(['orange', 'orange', 'orange', ..., 'grapefruit', 'grapefruit',\n",
       "       'grapefruit'], dtype=object)"
      ]
     },
     "execution_count": 41,
     "metadata": {},
     "output_type": "execute_result"
    }
   ],
   "source": [
    "y"
   ]
  },
  {
   "cell_type": "code",
   "execution_count": 42,
   "metadata": {
    "colab": {
     "base_uri": "https://localhost:8080/"
    },
    "id": "m7AKNqh6Bxv1",
    "outputId": "7fe43c84-48aa-4f92-f9bc-7d7e15435450"
   },
   "outputs": [],
   "source": [
    "# Encoding\n",
    "# x\n",
    "# for i in range(coloumn):\n",
    "#     x_train[: , i] = LabelEncoder().fit_transform(x_train[:,i])\n",
    "# y\n",
    "y                        = LabelEncoder().fit_transform(y)"
   ]
  },
  {
   "cell_type": "code",
   "execution_count": 43,
   "metadata": {
    "colab": {
     "base_uri": "https://localhost:8080/"
    },
    "id": "w3Q7et2iQ5B8",
    "outputId": "c6dd5c5e-b7b2-4cf3-d981-0514f39815cb"
   },
   "outputs": [
    {
     "name": "stdout",
     "output_type": "stream",
     "text": [
      "[16.45, 261.51, 192.0, 116.0, 56.0]\n",
      "[2.96, 86.76, 115.0, 31.0, 2.0]\n"
     ]
    }
   ],
   "source": [
    "# Normalize X\n",
    "row,coloumn = x.shape\n",
    "maxx = []\n",
    "minn = []\n",
    "for i in range(coloumn):\n",
    "    maxx.append(np.max(x[:,i]))\n",
    "    minn.append(np.min(x[:,i]))\n",
    "print(maxx)\n",
    "print(minn)"
   ]
  },
  {
   "cell_type": "code",
   "execution_count": 44,
   "metadata": {
    "id": "u5vxYzi9rZWX"
   },
   "outputs": [],
   "source": [
    "# Normalize X\n",
    "for i in range(coloumn):  \n",
    "    for j in range(row):\n",
    "        x[j , i] = (x[j , i]- minn[i])/(maxx[i]-minn[i])"
   ]
  },
  {
   "cell_type": "code",
   "execution_count": 45,
   "metadata": {
    "colab": {
     "base_uri": "https://localhost:8080/"
    },
    "id": "M7huEIX3rjcV",
    "outputId": "8f4c0989-9b33-498b-8c5e-83ebf196c92c"
   },
   "outputs": [
    {
     "data": {
      "text/plain": [
       "array([[0.        , 0.        , 0.74025974, 0.63529412, 0.        ],\n",
       "       [0.07042254, 0.00738197, 0.66233766, 0.55294118, 0.01851852],\n",
       "       [0.10822832, 0.04812589, 0.53246753, 0.58823529, 0.        ],\n",
       "       ...,\n",
       "       [0.93624907, 0.97133047, 0.68831169, 0.6       , 0.33333333],\n",
       "       [0.96071164, 0.99216023, 0.35064935, 0.48235294, 0.16666667],\n",
       "       [1.        , 1.        , 0.48051948, 0.50588235, 0.        ]])"
      ]
     },
     "execution_count": 45,
     "metadata": {},
     "output_type": "execute_result"
    }
   ],
   "source": [
    "x"
   ]
  },
  {
   "cell_type": "code",
   "execution_count": 46,
   "metadata": {},
   "outputs": [],
   "source": [
    "from sklearn.model_selection import  train_test_split\n",
    "from sklearn.neighbors import KNeighborsClassifier\n",
    "x_train,x_test,y_train,y_test = train_test_split(x,y,test_size=0.20)\n"
   ]
  },
  {
   "cell_type": "code",
   "execution_count": 47,
   "metadata": {},
   "outputs": [
    {
     "data": {
      "text/plain": [
       "KNeighborsClassifier()"
      ]
     },
     "execution_count": 47,
     "metadata": {},
     "output_type": "execute_result"
    }
   ],
   "source": [
    "knn = KNeighborsClassifier(n_neighbors=5)\n",
    "knn.fit(x_train,y_train)"
   ]
  },
  {
   "cell_type": "code",
   "execution_count": 48,
   "metadata": {},
   "outputs": [
    {
     "data": {
      "text/plain": [
       "array([0, 0, 0, ..., 0, 1, 0])"
      ]
     },
     "execution_count": 48,
     "metadata": {},
     "output_type": "execute_result"
    }
   ],
   "source": [
    "y_predd = knn.predict(x_test)\n",
    "y_predd"
   ]
  },
  {
   "cell_type": "code",
   "execution_count": 49,
   "metadata": {},
   "outputs": [
    {
     "name": "stdout",
     "output_type": "stream",
     "text": [
      "[0 0 0 ... 0 1 0]\n"
     ]
    }
   ],
   "source": [
    "print(y_predd)"
   ]
  },
  {
   "cell_type": "code",
   "execution_count": 52,
   "metadata": {},
   "outputs": [],
   "source": [
    "from sklearn.metrics import classification_report, confusion_matrix"
   ]
  },
  {
   "cell_type": "code",
   "execution_count": 54,
   "metadata": {},
   "outputs": [
    {
     "name": "stdout",
     "output_type": "stream",
     "text": [
      "              precision    recall  f1-score   support\n",
      "\n",
      "           0       0.91      0.91      0.91       969\n",
      "           1       0.92      0.91      0.91      1031\n",
      "\n",
      "    accuracy                           0.91      2000\n",
      "   macro avg       0.91      0.91      0.91      2000\n",
      "weighted avg       0.91      0.91      0.91      2000\n",
      "\n"
     ]
    }
   ],
   "source": [
    "print(classification_report(y_test,y_predd))"
   ]
  },
  {
   "cell_type": "code",
   "execution_count": 57,
   "metadata": {},
   "outputs": [],
   "source": [
    "one = []\n",
    "zero = []\n",
    "for i in y_predd:\n",
    "    if (i == 0):\n",
    "        zero.append(i)\n",
    "    elif(i == 1):\n",
    "        one.append(i)"
   ]
  },
  {
   "cell_type": "code",
   "execution_count": 63,
   "metadata": {},
   "outputs": [
    {
     "name": "stdout",
     "output_type": "stream",
     "text": [
      "1022\n",
      "978\n"
     ]
    }
   ],
   "source": [
    "print(len(one))\n",
    "print(len(zero))"
   ]
  },
  {
   "cell_type": "code",
   "execution_count": 64,
   "metadata": {},
   "outputs": [],
   "source": [
    "one = []\n",
    "zero = []\n",
    "for i in y_test:\n",
    "    if (i == 0):\n",
    "        zero.append(i)\n",
    "    elif(i == 1):\n",
    "        one.append(i)"
   ]
  },
  {
   "cell_type": "code",
   "execution_count": 65,
   "metadata": {},
   "outputs": [
    {
     "name": "stdout",
     "output_type": "stream",
     "text": [
      "1031\n",
      "969\n"
     ]
    }
   ],
   "source": [
    "print(len(one))\n",
    "print(len(zero))"
   ]
  },
  {
   "cell_type": "code",
   "execution_count": 71,
   "metadata": {},
   "outputs": [],
   "source": [
    "#Save model\n",
    "import pickle\n",
    "knnModel = open('Model/Model_file', 'wb') \n",
    "pickle.dump(knn, knnModel)                      "
   ]
  },
  {
   "cell_type": "code",
   "execution_count": null,
   "metadata": {},
   "outputs": [],
   "source": [
    "# load the model from disk\n",
    "knn = pickle.load(open('Model/Model_file', 'rb'))\n",
    "predict = knn.predict(X_test) "
   ]
  },
  {
   "cell_type": "code",
   "execution_count": 60,
   "metadata": {},
   "outputs": [],
   "source": [
    "# #------------------------------------------------------------------------------------------------------------\n",
    "# #----------------------------Save Model----------------------------------------------------------------------\n",
    "# import pickle\n",
    "# with open('w_hidden1.ob', 'wb') as fp:\n",
    "#     pickle.dump(w_hidden1, fp)\n",
    "# with open('w_hidden2.ob', 'wb') as fp:\n",
    "#     pickle.dump(w_hidden2, fp)\n",
    "# with open('w_output.ob', 'wb') as fp:\n",
    "#     pickle.dump(w_output, fp)\n",
    "# with open('b_hidden1.ob', 'wb') as fp:\n",
    "#     pickle.dump(b_hidden1, fp)\n",
    "# with open('b_hidden2.ob', 'wb') as fp:\n",
    "#     pickle.dump(b_hidden2, fp)\n",
    "# with open('b_output.ob', 'wb') as fp:\n",
    "#     pickle.dump(b_output, fp)"
   ]
  },
  {
   "cell_type": "code",
   "execution_count": 69,
   "metadata": {},
   "outputs": [],
   "source": [
    "# #-------------------------------------------------------------------------------------------------------------\n",
    "# #-------------------------------------Run from this-----------------------------------------------------------\n",
    "# with open ('w_hidden1.ob', 'rb') as fp:\n",
    "#     w_hidden1 = pickle.load(fp)\n",
    "# with open ('w_hidden2.ob', 'rb') as fp:\n",
    "#     w_hidden2 = pickle.load(fp)\n",
    "# with open ('w_output.ob', 'rb') as fp:\n",
    "#     w_output  = pickle.load(fp)\n",
    "# with open ('b_hidden1.ob', 'rb') as fp:\n",
    "#     b_hidden1 = pickle.load(fp)\n",
    "# with open ('b_hidden2.ob', 'rb') as fp:\n",
    "#     b_hidden2 = pickle.load(fp)\n",
    "# with open ('b_output.ob', 'rb') as fp:\n",
    "#     b_output  = pickle.load(fp)"
   ]
  },
  {
   "cell_type": "code",
   "execution_count": 40,
   "metadata": {},
   "outputs": [
    {
     "name": "stdout",
     "output_type": "stream",
     "text": [
      "[1.0, 0.7613636363636364, 0.6666666666666666, 0.8333333333333334, 0.97165991902834, 1.0]\n",
      "[0.0, 0.7613636363636364, 0.6666666666666666, 0.8333333333333334, 0.97165991902834, 1.0]\n",
      "[0.0, 0.5681818181818182, 0.6666666666666666, 0.8333333333333334, 0.97165991902834, 1.0]\n",
      "[0.0, 0.5681818181818182, 0.16666666666666666, 0.8333333333333334, 0.97165991902834, 1.0]\n",
      "[0.0, 0.5681818181818182, 0.16666666666666666, 0.6666666666666666, 0.97165991902834, 1.0]\n",
      "[0.0, 0.5681818181818182, 0.16666666666666666, 0.6666666666666666, 0.6072874493927125, 1.0]\n",
      "[0.0, 0.5681818181818182, 0.16666666666666666, 0.6666666666666666, 0.6072874493927125, 0.0]\n",
      "[0.0, 0.5681818181818182, 0.16666666666666666, 0.6666666666666666, 0.46558704453441296, 0.0]\n",
      "[0.0, 0.5681818181818182, 0.16666666666666666, 0.6666666666666666, 0.708502024291498, 0.0]\n",
      "[0.0, 0.3409090909090909, 0.16666666666666666, 0.6666666666666666, 0.708502024291498, 0.0]\n",
      "[0.0, 0.5227272727272727, 0.16666666666666666, 0.0, 0.708502024291498, 0.0]\n",
      "[0.0, 0.5227272727272727, 0.16666666666666666, 0.0, 0.7125506072874493, 0.0]\n",
      "[0.0, 0.5227272727272727, 0.16666666666666666, 0.0, 0.7165991902834008, 0.0]\n",
      "[0.0, 0.5227272727272727, 0.16666666666666666, 0.0, 0.8097165991902834, 0.0]\n",
      "[0.0, 0.6818181818181818, 0.16666666666666666, 0.0, 0.8097165991902834, 0.0]\n",
      "[0.0, 0.6818181818181818, 0.16666666666666666, 0.0, 0.8097165991902834, 1.0]\n",
      "[1.0, 0.6818181818181818, 0.16666666666666666, 0.0, 0.8097165991902834, 1.0]\n",
      "[1.0, 0.6818181818181818, 0.16666666666666666, 0.0, 1.214574898785425, 1.0]\n",
      "[1.0, 0.6818181818181818, 0.16666666666666666, 0.16666666666666666, 1.214574898785425, 1.0]\n",
      "[1.0, 0.6818181818181818, 0.16666666666666666, 0.6666666666666666, 1.214574898785425, 1.0]\n",
      "[1.0, 0.6818181818181818, 0.16666666666666666, 0.8333333333333334, 1.214574898785425, 1.0]\n",
      "[1.0, 0.6818181818181818, 0.16666666666666666, 0.0, 1.214574898785425, 1.0]\n",
      "[1.0, 0.6818181818181818, 0.0, 0.0, 1.214574898785425, 1.0]\n",
      "[1.0, 0.6818181818181818, 0.0, 0.16666666666666666, 1.214574898785425, 1.0]\n",
      "[1.0, 0.6818181818181818, 0.0, 0.3333333333333333, 1.214574898785425, 1.0]\n",
      "[1.0, 0.6818181818181818, 0.0, 0.5, 1.214574898785425, 1.0]\n",
      "[1.0, 0.6818181818181818, 0.0, 0.6666666666666666, 1.214574898785425, 1.0]\n",
      "[1.0, 0.6818181818181818, 0.3333333333333333, 0.6666666666666666, 1.214574898785425, 1.0]\n",
      "[1.0, 0.6818181818181818, 0.8333333333333334, 0.6666666666666666, 1.214574898785425, 1.0]\n",
      "[1.0, 0.022727272727272728, 0.16666666666666666, 0.6666666666666666, 1.214574898785425, 1.0]\n",
      "[1.0, 0.022727272727272728, 0.16666666666666666, 0.0, 1.214574898785425, 1.0]\n",
      "[0.0, 0.0, 0.0, 0.0, 1.214574898785425, 1.0]\n",
      "[0.0, 0.0, 0.0, 0.0, 0.0, 1.0]\n",
      "[0.0, 0.0, 0.0, 0.0, 0.0, 0.0]\n",
      "[0.0, 0.0, 0.0, 0.0, 0.0, 10.666666666666666]\n",
      "[0.0, 0.3409090909090909, 0.0, 0.0, 0.0, 10.666666666666666]\n",
      "[0.0, 0.3409090909090909, 0.0, 0.0, 0.016194331983805668, 10.666666666666666]\n",
      "[0.0, 0.3409090909090909, 0.0, 0.6666666666666666, 0.008097165991902834, 10.666666666666666]\n"
     ]
    },
    {
     "name": "stderr",
     "output_type": "stream",
     "text": [
      "C:\\Python3_7\\lib\\site-packages\\ipykernel_launcher.py:3: RuntimeWarning: overflow encountered in exp\n",
      "  This is separate from the ipykernel package so we can avoid doing imports until\n"
     ]
    },
    {
     "name": "stdout",
     "output_type": "stream",
     "text": [
      "[0.0, 0.3409090909090909, 0.0, 0.6666666666666666, 0.008097165991902834, 10.666666666666666]\n",
      "[0.0, 0.3409090909090909, 0.0, 0.6666666666666666, 0.008097165991902834, 10.666666666666666]\n",
      "[0.0, 0.3409090909090909, 0.0, 0.6666666666666666, 0.008097165991902834, 10.666666666666666]\n",
      "[0.0, 0.3409090909090909, 0.0, 0.6666666666666666, 0.008097165991902834, 10.666666666666666]\n",
      "[0.0, 0.3409090909090909, 0.0, 0.6666666666666666, 0.008097165991902834, 10.666666666666666]\n",
      "[0.0, 0.3409090909090909, 0.0, 0.6666666666666666, 0.008097165991902834, 10.666666666666666]\n",
      "[0.0, 0.3409090909090909, 0.0, 0.6666666666666666, 0.008097165991902834, 10.666666666666666]\n",
      "[1.0, 0.3409090909090909, 0.0, 0.6666666666666666, 0.008097165991902834, 10.666666666666666]\n",
      "[1.0, 0.3409090909090909, 0.0, 0.6666666666666666, 0.008097165991902834, 10.666666666666666]\n",
      "[1.0, 0.3409090909090909, 0.0, 0.6666666666666666, 0.008097165991902834, 10.666666666666666]\n",
      "[1.0, 0.3409090909090909, 0.0, 0.6666666666666666, 0.008097165991902834, 10.666666666666666]\n",
      "[1.0, 0.3409090909090909, 0.0, 0.6666666666666666, 0.008097165991902834, 10.666666666666666]\n",
      "[1.0, 0.3409090909090909, 0.0, 0.6666666666666666, 0.008097165991902834, 10.666666666666666]\n"
     ]
    }
   ],
   "source": [
    "# from tkinter import *\n",
    "# from tkinter.ttk import Combobox\n",
    "# from tkinter import messagebox\n",
    "\n",
    "\n",
    "# class Test:\n",
    "#     def __init__(self, tk):\n",
    "#         self.var = StringVar()\n",
    "#         self.data = (0, 1)\n",
    "#         self.lb0 = Label(tk,  text = 'MULTILAYER PERCEPTRON PREDIKSI KESELAMATAN PENUMPANG TITANIC',\n",
    "#                          font = (\"Times\",12)).place(x=15,y=0)\n",
    "#         self.lb1 = Label(tk,  text = 'Sex',font = (\"Times\",9)).place(x=5,y=50)\n",
    "#         self.lb2 = Label(tk,  text = 'Age',font = (\"Times\",9)).place(x=5,y=75)\n",
    "#         self.lb3 = Label(tk,  text = 'SibSp',font = (\"Times\",9)).place(x=5,y=100)\n",
    "#         self.lb4 = Label(tk,  text = 'Parch',font = (\"Times\",9)).place(x=5,y=125)\n",
    "#         self.lb5 = Label(tk,  text = 'Fare',font = (\"Times\",9)).place(x=5,y=150)\n",
    "#         self.lb6 = Label(tk,  text = 'Embarked',font = (\"Times\",9)).place(x=5,y=175)\n",
    "#         #---------------------------------------------------------------------------------------------\n",
    "#         self.cb1 = Combobox(tk, values=self.data,font = (\"Times\",9), width=17)\n",
    "#         self.cb1.place(x=80, y=50)\n",
    "#         self.e2  = Entry(tk,font = (\"Times\",9) )\n",
    "#         self.e2.place(x=80,y=75)\n",
    "#         self.e3  = Entry(tk,font = (\"Times\",9) )\n",
    "#         self.e3.place(x=80,y=100)\n",
    "#         self.e4  = Entry(tk,font = (\"Times\",9) )\n",
    "#         self.e4.place(x=80,y=125)\n",
    "#         self.e5  = Entry(tk,font = (\"Times\",9) )\n",
    "#         self.e5.place(x=80,y=150)\n",
    "#         self.e6  = Entry(tk,font = (\"Times\",9) )\n",
    "#         self.e6.place(x=80,y=175)\n",
    "#         #---------------------------------------------------------------------------------------------\n",
    "#         self.b1  = Button(tk, text=\"Prediksi\",font = (\"Times\",9), command=self.select).place(x=300, y=250, anchor=CENTER)\n",
    "#         self.lb7 = Label(tk,  text = 'Hasil', font = (\"Times\",9))\n",
    "#         self.lb7.place(x=300, y=300, anchor=CENTER)\n",
    "        \n",
    "#     def select(self):\n",
    "#         data   = []\n",
    "#         value1 = (float(self.cb1.get())-minn[0])/(maxx[0]-minn[0])\n",
    "#         #messagebox.showinfo(\"Warn\", \"You selected \" + value)\n",
    "#         value2 = (float(self.e2.get())-minn[1])/(maxx[1]-minn[1])\n",
    "#         value3 = (float(self.e3.get())-minn[2])/(maxx[2]-minn[2])\n",
    "#         value4 = (float(self.e4.get())-minn[3])/(maxx[3]-minn[3])\n",
    "#         value5 = (float(self.e5.get())-minn[4])/(maxx[4]-minn[4])\n",
    "#         value6 = (float(self.e6.get())-minn[5])/(maxx[5]-minn[5])\n",
    "#         data.append(value1)\n",
    "#         data.append(value2)\n",
    "#         data.append(value3)\n",
    "#         data.append(value4)\n",
    "#         data.append(value5)\n",
    "#         data.append(value6)\n",
    "#         HasilPredict = []\n",
    "#         print(data)\n",
    "#         for i in data:\n",
    "#             # Hidden Layer1\n",
    "#             o_hidden1 = np.matmul(data, w_hidden1) + b_hidden1\n",
    "#             o_hidden1 = sig(o_hidden1)\n",
    "#             # Hidden Layer2\n",
    "#             o_hidden2 = np.matmul(o_hidden1, w_hidden2) + b_hidden2\n",
    "#             o_hidden2 = sig(o_hidden2)\n",
    "#             # Outpur Layer\n",
    "#             o_output  = np.matmul(o_hidden2, w_output) + b_output\n",
    "#             o_output  = sig(o_output)\n",
    "#             HasilPredict.append(round(float(o_output)))\n",
    "#         for i in HasilPredict:\n",
    "#             if i == 1 :\n",
    "#                 a = 'Selamat'\n",
    "#             elif i == 0 :\n",
    "#                 a = 'Tewas'\n",
    "#         self.lb7.config(text=a)\n",
    "# tk = Tk()\n",
    "# tk.geometry(\"600x350\")\n",
    "# tk.title(\"MULTILAYER PERCEPTRON\")\n",
    "# tt = Test(tk)\n",
    "# tk.mainloop()"
   ]
  }
 ],
 "metadata": {
  "celltoolbar": "Tags",
  "colab": {
   "collapsed_sections": [],
   "name": "Main.ipynb",
   "provenance": []
  },
  "kernelspec": {
   "display_name": "Python 3",
   "language": "python",
   "name": "python3"
  },
  "language_info": {
   "codemirror_mode": {
    "name": "ipython",
    "version": 3
   },
   "file_extension": ".py",
   "mimetype": "text/x-python",
   "name": "python",
   "nbconvert_exporter": "python",
   "pygments_lexer": "ipython3",
   "version": "3.7.7"
  }
 },
 "nbformat": 4,
 "nbformat_minor": 1
}
